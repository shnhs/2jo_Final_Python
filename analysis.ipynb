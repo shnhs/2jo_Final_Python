{
 "cells": [
  {
   "cell_type": "code",
   "execution_count": 78,
   "metadata": {},
   "outputs": [],
   "source": [
    "import pandas as pd\n",
    "import sqlite3\n",
    "from datetime import datetime, timedelta, date\n",
    "\n",
    "def service(start_day, end_day, period, drop_holi = 0, stock_moving_avg = 1, day_shift = 0):\n",
    "    '''\n",
    "    각 옵션을 입력받아 해당 기간의 데이터를 DB로부터 조회하여 원하는 형태로 가공하여 리턴하는 함수\n",
    "    start_day           : 조회를 시작 날짜\n",
    "    end_day             : 조회 종료 날짜\n",
    "    period              : 뉴스 긍부정과 주가를 이동평균 낼 기간\n",
    "    drop_holi           : 주말 혹은 공휴일 뉴스를 사용할지 여부. 0 (디폴트) - 다음 영업일 주가로 채워서 사용 / 1 - 주말 및 공휴일 데이터는 drop\n",
    "    stock_moving_avg    : 주가를 이동평균 낼지 여부. 1 (디폴트) - 주가 이동평균 사용 / 0 - 이동평균 사용안함\n",
    "    day_shift           : 뉴스와 주가의 몇 일의 텀을 두고 분석할 지.  0(디폴트) | +x - 해당일의 뉴스와 다음날의 주가 분석 | -x - 해당일의 뉴스와 전날의 주가 분석 \n",
    "    '''\n",
    "    # 이동평균을 고려하여 DB에서 조회할 날짜 설정\n",
    "    inq_day = (datetime.strptime(str(start_day), \"%Y%m%d\").date() - timedelta(days = period - 1)).strftime('%Y%m%d')\n",
    "    end_day = str(end_day)\n",
    "\n",
    "    # db 경로는 로컬에 맞게 설정해야함\n",
    "    conn = sqlite3.connect(\"C:/Python_workspace/2jo_Final_Python/DB/samsung.db\")\n",
    "\n",
    "    # 커서 바인딩\n",
    "    c = conn.cursor()\n",
    "\n",
    "    # 뉴스데이터 조회\n",
    "    query = c.execute(f\"select a.id, a.date, a.code, b.senti, b.senti_proba from news_db b join news_id a on b.id = a.id where a.date BETWEEN {inq_day} and {end_day};\")\n",
    "    # 컬럼명 조회\n",
    "    cols = [column[0] for column in query.description]\n",
    "    # 데이터 프레임으로 만들기\n",
    "    news_result = pd.DataFrame.from_records(data=query.fetchall(), columns=cols)\n",
    "\n",
    "    # 커서 닫기 - 일단 주석처리함\n",
    "    # conn.close()\n",
    "\n",
    "    # 주가 데이터 조회\n",
    "    # query = c.execute(\"select a.id, a.date, a.code, b.senti, b.senti_proba from news_db b join news_id a on b.id = a.id where a.date BETWEEN '20210111' and '20210118';\")\n",
    "    query = c.execute(f\"select s_date, s_code, close-open from stock_db where s_date BETWEEN {inq_day} and {end_day};\")\n",
    "    # 컬럼명 조회\n",
    "    cols = [column[0] for column in query.description]\n",
    "    # 데이터 프레임으로 만들기\n",
    "    stock_result = pd.DataFrame.from_records(data=query.fetchall(), columns=cols)\n",
    "    stock_result.rename(columns={'s_date': 'date', 's_code': 'code', 'close-open': 'UpDown'}, inplace=True)\n",
    "    \n",
    "    # 주말 및 공휴일 drop 여부는 옵션에 따라; 디폴트는 드랍안함\n",
    "    if drop_holi:\n",
    "        # 주말이나 공휴일 등으로 주가가 빠진 날은 drop\n",
    "        merge_outer_df = pd.merge(news_result,stock_result, how='outer',on='date')\n",
    "        merge_outer_df = merge_outer_df.dropna(subset=['UpDown'])\n",
    "    else:\n",
    "        # 주말이나 공휴일 등으로 주가가 빠진 날은 다음 Business Day의 주가로 채워줌\n",
    "        merge_outer_df = pd.merge(news_result,stock_result, how='outer',on='date').fillna(method='bfill')\n",
    "\n",
    "    dateg = merge_outer_df.groupby(['date']).mean()\n",
    "    dateg = dateg[['senti', 'UpDown']]\n",
    "    dateg = dateg.reset_index()\n",
    "\n",
    "    # 설정한 기간에 따라 뉴스 긍부정 이동평균\n",
    "    dateg['senti_moving_avg'] = dateg['senti'].rolling(window=period).mean()\n",
    "\n",
    "    # 주가의 이동평균은 옵션에 따라 결정; 디폴트는 이동평균 사용\n",
    "    if stock_moving_avg:\n",
    "        dateg['UpDown_moving_avg'] = dateg['UpDown']\n",
    "    else:\n",
    "        dateg['UpDown_moving_avg'] = dateg['UpDown'].rolling(window=period).mean()\n",
    "\n",
    "    dateg = dateg[['date', 'senti_moving_avg', 'UpDown_moving_avg']]\n",
    "\n",
    "    # 뉴스와 주가사이의 텀 설정\n",
    "    dateg['UpDown_moving_avg'] = dateg['UpDown_moving_avg'].shift(day_shift)\n",
    "    dateg.dropna(inplace=True)\n",
    "    \n",
    "    return dateg"
   ]
  },
  {
   "cell_type": "code",
   "execution_count": 91,
   "metadata": {},
   "outputs": [
    {
     "data": {
      "text/html": [
       "<div>\n",
       "<style scoped>\n",
       "    .dataframe tbody tr th:only-of-type {\n",
       "        vertical-align: middle;\n",
       "    }\n",
       "\n",
       "    .dataframe tbody tr th {\n",
       "        vertical-align: top;\n",
       "    }\n",
       "\n",
       "    .dataframe thead th {\n",
       "        text-align: right;\n",
       "    }\n",
       "</style>\n",
       "<table border=\"1\" class=\"dataframe\">\n",
       "  <thead>\n",
       "    <tr style=\"text-align: right;\">\n",
       "      <th></th>\n",
       "      <th>date</th>\n",
       "      <th>senti_moving_avg</th>\n",
       "      <th>UpDown_moving_avg</th>\n",
       "    </tr>\n",
       "  </thead>\n",
       "  <tbody>\n",
       "    <tr>\n",
       "      <th>5</th>\n",
       "      <td>20210406</td>\n",
       "      <td>0.133704</td>\n",
       "      <td>600.0</td>\n",
       "    </tr>\n",
       "    <tr>\n",
       "      <th>6</th>\n",
       "      <td>20210407</td>\n",
       "      <td>0.071204</td>\n",
       "      <td>-1000.0</td>\n",
       "    </tr>\n",
       "    <tr>\n",
       "      <th>7</th>\n",
       "      <td>20210408</td>\n",
       "      <td>0.160434</td>\n",
       "      <td>400.0</td>\n",
       "    </tr>\n",
       "    <tr>\n",
       "      <th>8</th>\n",
       "      <td>20210409</td>\n",
       "      <td>0.178953</td>\n",
       "      <td>800.0</td>\n",
       "    </tr>\n",
       "    <tr>\n",
       "      <th>9</th>\n",
       "      <td>20210412</td>\n",
       "      <td>0.177728</td>\n",
       "      <td>-400.0</td>\n",
       "    </tr>\n",
       "  </tbody>\n",
       "</table>\n",
       "</div>"
      ],
      "text/plain": [
       "       date  senti_moving_avg  UpDown_moving_avg\n",
       "5  20210406          0.133704              600.0\n",
       "6  20210407          0.071204            -1000.0\n",
       "7  20210408          0.160434              400.0\n",
       "8  20210409          0.178953              800.0\n",
       "9  20210412          0.177728             -400.0"
      ]
     },
     "execution_count": 91,
     "metadata": {},
     "output_type": "execute_result"
    }
   ],
   "source": [
    "# 정의한 함수 실행\n",
    "result = service(20210401, 20210501, 3, drop_holi=1, stock_moving_avg=1, day_shift = 5)\n",
    "result.head()"
   ]
  },
  {
   "cell_type": "code",
   "execution_count": 92,
   "metadata": {},
   "outputs": [
    {
     "data": {
      "text/html": [
       "<div>\n",
       "<style scoped>\n",
       "    .dataframe tbody tr th:only-of-type {\n",
       "        vertical-align: middle;\n",
       "    }\n",
       "\n",
       "    .dataframe tbody tr th {\n",
       "        vertical-align: top;\n",
       "    }\n",
       "\n",
       "    .dataframe thead th {\n",
       "        text-align: right;\n",
       "    }\n",
       "</style>\n",
       "<table border=\"1\" class=\"dataframe\">\n",
       "  <thead>\n",
       "    <tr style=\"text-align: right;\">\n",
       "      <th></th>\n",
       "      <th>date</th>\n",
       "      <th>senti_moving_avg</th>\n",
       "      <th>UpDown_moving_avg</th>\n",
       "    </tr>\n",
       "  </thead>\n",
       "  <tbody>\n",
       "    <tr>\n",
       "      <th>0</th>\n",
       "      <td>2021-04-06</td>\n",
       "      <td>0.356062</td>\n",
       "      <td>0.809524</td>\n",
       "    </tr>\n",
       "    <tr>\n",
       "      <th>1</th>\n",
       "      <td>2021-04-07</td>\n",
       "      <td>0.175064</td>\n",
       "      <td>0.047619</td>\n",
       "    </tr>\n",
       "    <tr>\n",
       "      <th>2</th>\n",
       "      <td>2021-04-08</td>\n",
       "      <td>0.433473</td>\n",
       "      <td>0.714286</td>\n",
       "    </tr>\n",
       "    <tr>\n",
       "      <th>3</th>\n",
       "      <td>2021-04-09</td>\n",
       "      <td>0.487102</td>\n",
       "      <td>0.904762</td>\n",
       "    </tr>\n",
       "    <tr>\n",
       "      <th>4</th>\n",
       "      <td>2021-04-12</td>\n",
       "      <td>0.483553</td>\n",
       "      <td>0.333333</td>\n",
       "    </tr>\n",
       "  </tbody>\n",
       "</table>\n",
       "</div>"
      ],
      "text/plain": [
       "        date  senti_moving_avg  UpDown_moving_avg\n",
       "0 2021-04-06          0.356062           0.809524\n",
       "1 2021-04-07          0.175064           0.047619\n",
       "2 2021-04-08          0.433473           0.714286\n",
       "3 2021-04-09          0.487102           0.904762\n",
       "4 2021-04-12          0.483553           0.333333"
      ]
     },
     "execution_count": 92,
     "metadata": {},
     "output_type": "execute_result"
    }
   ],
   "source": [
    "# 열 정규화 하기\n",
    "import pandas as pd\n",
    "from sklearn import preprocessing\n",
    "\n",
    "date_c = list(result['date'])\n",
    "\n",
    "x = result.values #returns a numpy array\n",
    "min_max_scaler = preprocessing.MinMaxScaler()\n",
    "x_scaled = min_max_scaler.fit_transform(x)\n",
    "result = pd.DataFrame(x_scaled, columns=result.columns)\n",
    "result['date'] = date_c\n",
    "result['date'] = result['date'].astype(str)\n",
    "result['date'] = pd.to_datetime(result['date'])\n",
    "result.head()"
   ]
  },
  {
   "cell_type": "code",
   "execution_count": 93,
   "metadata": {},
   "outputs": [
    {
     "data": {
      "text/plain": [
       "(array([18722., 18726., 18730., 18734., 18738., 18742., 18746., 18748.]),\n",
       " [Text(0, 0, ''),\n",
       "  Text(0, 0, ''),\n",
       "  Text(0, 0, ''),\n",
       "  Text(0, 0, ''),\n",
       "  Text(0, 0, ''),\n",
       "  Text(0, 0, ''),\n",
       "  Text(0, 0, ''),\n",
       "  Text(0, 0, '')])"
      ]
     },
     "execution_count": 93,
     "metadata": {},
     "output_type": "execute_result"
    },
    {
     "data": {
      "image/png": "[encoded data removed]",
      "text/plain": [
       "<Figure size 432x288 with 1 Axes>"
      ]
     },
     "metadata": {
      "needs_background": "light"
     },
     "output_type": "display_data"
    }
   ],
   "source": [
    "# 긍부정과 상관관계 그래프 도시\n",
    "import numpy as np\n",
    "import pandas as pd\n",
    "import matplotlib.pyplot as plt\n",
    "import seaborn as sns\n",
    "\n",
    "# ax = sns.scatterplot(data=result, x='senti_moving_avg', y='UpDown_moving_avg')\n",
    "# fig, axe1 = plt.subplots()\n",
    "# axe2 = axe1.twinx()\n",
    "# c1 = sns.lineplot(ax = axe1, data = result, x = 'date', y = 'senti_moving_avg', color = 'red')\n",
    "# c2 = sns.lineplot(ax = axe2, data = result, x = 'date', y = 'UpDown_moving_avg', color = 'blue')\n",
    "\n",
    "plt.plot(result['date'], result['senti_moving_avg'], label = 'senti') \n",
    "plt.plot(result['date'], result['UpDown_moving_avg'], label='stock_UpDown')\n",
    "plt.legend()\n",
    "plt.xticks(rotation=45)"
   ]
  },
  {
   "cell_type": "code",
   "execution_count": 94,
   "metadata": {},
   "outputs": [
    {
     "data": {
      "text/plain": [
       "<AxesSubplot:>"
      ]
     },
     "execution_count": 94,
     "metadata": {},
     "output_type": "execute_result"
    },
    {
     "data": {
      "image/png": "[encoded data removed]",
      "text/plain": [
       "<Figure size 432x288 with 2 Axes>"
      ]
     },
     "metadata": {
      "needs_background": "light"
     },
     "output_type": "display_data"
    }
   ],
   "source": [
    "# 상관계수 찍어보기\n",
    "pairplot = result\n",
    "sns.heatmap(pairplot.corr(), vmin=-1, vmax=1, annot=True, cmap=\"coolwarm\", annot_kws={'size' : 20})"
   ]
  },
  {
   "cell_type": "code",
   "execution_count": null,
   "metadata": {},
   "outputs": [],
   "source": []
  }
 ],
 "metadata": {
  "interpreter": {
   "hash": "b3ba2566441a7c06988d0923437866b63cedc61552a5af99d1f4fb67d367b25f"
  },
  "kernelspec": {
   "display_name": "Python 3.9.7 ('base')",
   "language": "python",
   "name": "python3"
  },
  "language_info": {
   "codemirror_mode": {
    "name": "ipython",
    "version": 3
   },
   "file_extension": ".py",
   "mimetype": "text/x-python",
   "name": "python",
   "nbconvert_exporter": "python",
   "pygments_lexer": "ipython3",
   "version": "3.9.7"
  },
  "orig_nbformat": 4
 },
 "nbformat": 4,
 "nbformat_minor": 2
}
