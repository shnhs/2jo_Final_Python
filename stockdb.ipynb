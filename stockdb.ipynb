{
 "cells": [
  {
   "cell_type": "code",
   "execution_count": 27,
   "metadata": {},
   "outputs": [],
   "source": [
    "def StocktoDB(start, end, code:str):\n",
    "    '''\n",
    "    조회할 시작,끝 날짜와 종목이름을 입력받아\n",
    "    prkrx에서 조회한 OHLCV데이터를 DB에 입력하는 함수\n",
    "    '''\n",
    "    import pandas as pd\n",
    "    import sqlite3\n",
    "    from datetime import date\n",
    "    from pykrx import stock\n",
    "    from pykrx import bond\n",
    "    \n",
    "    # db 경로는 로컬에 맞게 설정해야함\n",
    "    conn = sqlite3.connect(\"C:/Python_workspace/2jo_Final_Python/DB/final.db\")\n",
    "\n",
    "    # 커서 바인딩\n",
    "    c = conn.cursor()\n",
    "\n",
    "    # 종목명 설정, 추후에 딕셔너리 추가 필요!\n",
    "    ticker_dict = {'삼성전자' : '005930', '하이닉스' : '000660', '네이버' : '035420'}\n",
    "\n",
    "    df = stock.get_market_ohlcv(start, end, ticker_dict[code])\n",
    "    df.reset_index(inplace=True)\n",
    "    df['날짜'] = df['날짜'].apply(lambda x: x.strftime('%Y%m%d'))\n",
    "    df['날짜'] = df['날짜'].astype(int)\n",
    "    \n",
    "    # 데이터 프레임 각 행을 DB에 입력\n",
    "    for row in df.itertuples():\n",
    "        sql1 = \"insert into stock_db(s_date, s_code, open, high, low, close, volume) values (?,?,?,?,?,?,?)\"\n",
    "        c.execute(sql1, (row[1], code, row[2], row[3], row[4], row[5], row[6]))\n",
    "    conn.commit()\n",
    "\n",
    "    print('DB 입력 완료')"
   ]
  },
  {
   "cell_type": "code",
   "execution_count": 28,
   "metadata": {},
   "outputs": [
    {
     "name": "stdout",
     "output_type": "stream",
     "text": [
      "DB 입력 완료\n"
     ]
    }
   ],
   "source": [
    "StocktoDB('20170101', '20211231', '삼성전자')"
   ]
  },
  {
   "cell_type": "code",
   "execution_count": null,
   "metadata": {},
   "outputs": [],
   "source": []
  }
 ],
 "metadata": {
  "interpreter": {
   "hash": "b3ba2566441a7c06988d0923437866b63cedc61552a5af99d1f4fb67d367b25f"
  },
  "kernelspec": {
   "display_name": "Python 3.9.7 ('base')",
   "language": "python",
   "name": "python3"
  },
  "language_info": {
   "codemirror_mode": {
    "name": "ipython",
    "version": 3
   },
   "file_extension": ".py",
   "mimetype": "text/x-python",
   "name": "python",
   "nbconvert_exporter": "python",
   "pygments_lexer": "ipython3",
   "version": "3.9.7"
  },
  "orig_nbformat": 4
 },
 "nbformat": 4,
 "nbformat_minor": 2
}
