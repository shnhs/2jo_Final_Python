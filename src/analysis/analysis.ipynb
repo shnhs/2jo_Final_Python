{
 "cells": [
  {
   "cell_type": "code",
   "execution_count": 66,
   "metadata": {},
   "outputs": [],
   "source": [
    "import pandas as pd\n",
    "import sqlite3\n",
    "from datetime import datetime, timedelta, date\n",
    "\n",
    "def service(code, start_day, end_day, period, drop_holi = 0, stock_moving_avg = 1, day_shift = 0):\n",
    "    '''\n",
    "    각 옵션을 입력받아 해당 기간의 데이터를 DB로부터 조회하여 원하는 형태로 가공하여 리턴하는 함수\n",
    "    code                : 조회할 종목이름\n",
    "    start_day           : 조회를 시작 날짜\n",
    "    end_day             : 조회 종료 날짜\n",
    "    period              : 뉴스 긍부정과 주가를 이동평균 낼 기간\n",
    "    drop_holi           : 주말 혹은 공휴일 뉴스를 사용할지 여부. 0 (디폴트) - 다음 영업일 주가로 채워서 사용 / 1 - 주말 및 공휴일 데이터는 drop\n",
    "    stock_moving_avg    : 주가를 이동평균 낼지 여부. 1 (디폴트) - 주가 이동평균 사용 / 0 - 이동평균 사용안함\n",
    "    day_shift           : 뉴스와 주가의 몇 일의 텀을 두고 분석할 지.  0(디폴트) | +x - 해당일의 뉴스와 다음날의 주가 분석 | -x - 해당일의 뉴스와 전날의 주가 분석 \n",
    "    '''\n",
    "    # 이동평균을 고려하여 DB에서 조회할 날짜 설정\n",
    "    inq_day = (datetime.strptime(str(start_day), \"%Y%m%d\").date() - timedelta(days = period - 1)).strftime('%Y%m%d')\n",
    "    end_day = str(end_day)\n",
    "\n",
    "    # db 경로는 로컬에 맞게 설정해야함\n",
    "    conn = sqlite3.connect(\"C:/Projects/python-workspace/2jo_Final_Python2/DB/final.db\")\n",
    "\n",
    "    # 커서 바인딩\n",
    "    c = conn.cursor()\n",
    "\n",
    "    # 뉴스데이터 조회\n",
    "    # query = c.execute(f\"select a.id, a.date, a.code, b.senti, b.senti_proba from news_db b join news_id a on b.id = a.id where a.date BETWEEN {inq_day} and {end_day};\")\n",
    "    query = c.execute(f\"select a.id, a.date, a.code, b.senti, b.senti_proba from news_db b join news_id a on b.id = a.id where a.code = \\'{code}\\' and (a.date BETWEEN {inq_day} and {end_day});\")\n",
    "    # 컬럼명 조회\n",
    "    cols = [column[0] for column in query.description]\n",
    "    # 데이터 프레임으로 만들기\n",
    "    news_result = pd.DataFrame.from_records(data=query.fetchall(), columns=cols)\n",
    "\n",
    "    # 커서 닫기 - 일단 주석처리함\n",
    "    # conn.close()\n",
    "\n",
    "    # 주가 데이터 조회\n",
    "    query = c.execute(f\"select s_date, s_code, close-open from stock_db where s_code = \\'{code}\\' and (s_date BETWEEN {inq_day} and {end_day});\")\n",
    "    # 컬럼명 조회\n",
    "    cols = [column[0] for column in query.description]\n",
    "    # 데이터 프레임으로 만들기\n",
    "    stock_result = pd.DataFrame.from_records(data=query.fetchall(), columns=cols)\n",
    "    stock_result.rename(columns={'s_date': 'date', 's_code': 'code', 'close-open': 'UpDown'}, inplace=True)\n",
    "    \n",
    "    # 주말 및 공휴일 drop 여부는 옵션에 따라; 디폴트는 드랍안함\n",
    "    if drop_holi:\n",
    "        # 주말이나 공휴일 등으로 주가가 빠진 날은 drop\n",
    "        merge_outer_df = pd.merge(news_result,stock_result, how='outer',on='date')\n",
    "        merge_outer_df = merge_outer_df.dropna(subset=['UpDown'])\n",
    "    else:\n",
    "        # 주말이나 공휴일 등으로 주가가 빠진 날은 다음 Business Day의 주가로 채워줌\n",
    "        merge_outer_df = pd.merge(news_result,stock_result, how='outer',on='date').fillna(method='bfill')\n",
    "\n",
    "    dateg = merge_outer_df.groupby(['date']).mean()\n",
    "    dateg = dateg[['senti', 'UpDown']]\n",
    "    dateg = dateg.reset_index()\n",
    "\n",
    "    # 설정한 기간에 따라 뉴스 긍부정 이동평균\n",
    "    dateg['senti_moving_avg'] = dateg['senti'].rolling(window=period).mean()\n",
    "\n",
    "    # 주가의 이동평균은 옵션에 따라 결정; 디폴트는 이동평균 사용\n",
    "    if stock_moving_avg:\n",
    "        dateg['UpDown_moving_avg'] = dateg['UpDown']\n",
    "    else:\n",
    "        dateg['UpDown_moving_avg'] = dateg['UpDown'].rolling(window=period).mean()\n",
    "\n",
    "    dateg = dateg[['date', 'senti_moving_avg', 'UpDown_moving_avg']]\n",
    "\n",
    "    # 뉴스와 주가사이의 텀 설정\n",
    "    dateg['UpDown_moving_avg'] = dateg['UpDown_moving_avg'].shift(day_shift)\n",
    "    dateg.dropna(inplace=True)\n",
    "    \n",
    "    return dateg"
   ]
  },
  {
   "cell_type": "code",
   "execution_count": 91,
   "metadata": {},
   "outputs": [
    {
     "data": {
      "text/html": [
       "<div>\n",
       "<style scoped>\n",
       "    .dataframe tbody tr th:only-of-type {\n",
       "        vertical-align: middle;\n",
       "    }\n",
       "\n",
       "    .dataframe tbody tr th {\n",
       "        vertical-align: top;\n",
       "    }\n",
       "\n",
       "    .dataframe thead th {\n",
       "        text-align: right;\n",
       "    }\n",
       "</style>\n",
       "<table border=\"1\" class=\"dataframe\">\n",
       "  <thead>\n",
       "    <tr style=\"text-align: right;\">\n",
       "      <th></th>\n",
       "      <th>date</th>\n",
       "      <th>senti_moving_avg</th>\n",
       "      <th>UpDown_moving_avg</th>\n",
       "    </tr>\n",
       "  </thead>\n",
       "  <tbody>\n",
       "    <tr>\n",
       "      <th>3</th>\n",
       "      <td>20210402</td>\n",
       "      <td>0.253292</td>\n",
       "      <td>3000.0</td>\n",
       "    </tr>\n",
       "    <tr>\n",
       "      <th>4</th>\n",
       "      <td>20210403</td>\n",
       "      <td>0.214484</td>\n",
       "      <td>-2500.0</td>\n",
       "    </tr>\n",
       "    <tr>\n",
       "      <th>5</th>\n",
       "      <td>20210404</td>\n",
       "      <td>0.145688</td>\n",
       "      <td>3001.0</td>\n",
       "    </tr>\n",
       "    <tr>\n",
       "      <th>6</th>\n",
       "      <td>20210405</td>\n",
       "      <td>0.154756</td>\n",
       "      <td>-2000.0</td>\n",
       "    </tr>\n",
       "    <tr>\n",
       "      <th>7</th>\n",
       "      <td>20210406</td>\n",
       "      <td>0.204664</td>\n",
       "      <td>-2500.0</td>\n",
       "    </tr>\n",
       "  </tbody>\n",
       "</table>\n",
       "</div>"
      ],
      "text/plain": [
       "       date  senti_moving_avg  UpDown_moving_avg\n",
       "3  20210402          0.253292             3000.0\n",
       "4  20210403          0.214484            -2500.0\n",
       "5  20210404          0.145688             3001.0\n",
       "6  20210405          0.154756            -2000.0\n",
       "7  20210406          0.204664            -2500.0"
      ]
     },
     "execution_count": 91,
     "metadata": {},
     "output_type": "execute_result"
    }
   ],
   "source": [
    "# 정의한 함수 실행\n",
    "result = service('네이버', 20210401, 20210501, 3, drop_holi = 0, stock_moving_avg = 1, day_shift = 3)\n",
    "result.head()"
   ]
  },
  {
   "cell_type": "code",
   "execution_count": 92,
   "metadata": {},
   "outputs": [
    {
     "data": {
      "text/html": [
       "<div>\n",
       "<style scoped>\n",
       "    .dataframe tbody tr th:only-of-type {\n",
       "        vertical-align: middle;\n",
       "    }\n",
       "\n",
       "    .dataframe tbody tr th {\n",
       "        vertical-align: top;\n",
       "    }\n",
       "\n",
       "    .dataframe thead th {\n",
       "        text-align: right;\n",
       "    }\n",
       "</style>\n",
       "<table border=\"1\" class=\"dataframe\">\n",
       "  <thead>\n",
       "    <tr style=\"text-align: right;\">\n",
       "      <th></th>\n",
       "      <th>date</th>\n",
       "      <th>senti_moving_avg</th>\n",
       "      <th>UpDown_moving_avg</th>\n",
       "    </tr>\n",
       "  </thead>\n",
       "  <tbody>\n",
       "    <tr>\n",
       "      <th>0</th>\n",
       "      <td>20210402</td>\n",
       "      <td>0.492973</td>\n",
       "      <td>0.621622</td>\n",
       "    </tr>\n",
       "    <tr>\n",
       "      <th>1</th>\n",
       "      <td>20210403</td>\n",
       "      <td>0.402745</td>\n",
       "      <td>0.324324</td>\n",
       "    </tr>\n",
       "    <tr>\n",
       "      <th>2</th>\n",
       "      <td>20210404</td>\n",
       "      <td>0.242796</td>\n",
       "      <td>0.621676</td>\n",
       "    </tr>\n",
       "    <tr>\n",
       "      <th>3</th>\n",
       "      <td>20210405</td>\n",
       "      <td>0.263879</td>\n",
       "      <td>0.351351</td>\n",
       "    </tr>\n",
       "    <tr>\n",
       "      <th>4</th>\n",
       "      <td>20210406</td>\n",
       "      <td>0.379915</td>\n",
       "      <td>0.324324</td>\n",
       "    </tr>\n",
       "  </tbody>\n",
       "</table>\n",
       "</div>"
      ],
      "text/plain": [
       "       date  senti_moving_avg  UpDown_moving_avg\n",
       "0  20210402          0.492973           0.621622\n",
       "1  20210403          0.402745           0.324324\n",
       "2  20210404          0.242796           0.621676\n",
       "3  20210405          0.263879           0.351351\n",
       "4  20210406          0.379915           0.324324"
      ]
     },
     "execution_count": 92,
     "metadata": {},
     "output_type": "execute_result"
    }
   ],
   "source": [
    "# 열 정규화 하기\n",
    "import pandas as pd\n",
    "from sklearn import preprocessing\n",
    "\n",
    "date_c = list(result['date'])\n",
    "\n",
    "x = result.values #returns a numpy array\n",
    "min_max_scaler = preprocessing.MinMaxScaler()\n",
    "x_scaled = min_max_scaler.fit_transform(x)\n",
    "result = pd.DataFrame(x_scaled, columns=result.columns)\n",
    "result['date'] = date_c\n",
    "# result['date'] = result['date'].astype(str)\n",
    "# result['date'] = pd.to_datetime(result['date'])\n",
    "result.head()"
   ]
  },
  {
   "cell_type": "code",
   "execution_count": 97,
   "metadata": {},
   "outputs": [],
   "source": [
    "def date_corNews_list(corr_df:pd.DataFrame)-> list:\n",
    "\n",
    "    import datetime\n",
    "    import time\n",
    "\n",
    "    date_list= corr_df['date'].values.tolist()\n",
    "    for index in range(len(corr_df['date'])):\n",
    "\n",
    "        # string 타입의 날짜 형식을 datetime 타입으로 변환\n",
    "        datetime_date=datetime.datetime.strptime(str(date_list[index]), '%Y%m%d')\n",
    "\n",
    "        # datetime 타입을 unixtime으로 변환\n",
    "        # *1000 : 분, 초 포함하도록\n",
    "        unix_date=(time.mktime(datetime_date.timetuple()))*1000\n",
    "\n",
    "        # unixtime을 int값으로 변환 후 데이터 프레임에 넣기\n",
    "        date_list[index] = int(float(unix_date))\n",
    "    \n",
    "    date_df=pd.DataFrame(date_list,  columns=['date'])\n",
    "    corr_df=pd.concat([date_df, corr_df['senti_moving_avg']], axis=1)\n",
    "\n",
    "    corr_list=corr_df.values.tolist()\n",
    "    return corr_list"
   ]
  },
  {
   "cell_type": "code",
   "execution_count": 98,
   "metadata": {},
   "outputs": [
    {
     "data": {
      "text/plain": [
       "[[1617289200000.0, 0.492972576747966],\n",
       " [1617375600000.0, 0.40274489400625385],\n",
       " [1617462000000.0, 0.2427958200550368],\n",
       " [1617548400000.0, 0.2638790743193785],\n",
       " [1617634800000.0, 0.379914866569801],\n",
       " [1617721200000.0, 0.5225837280673598],\n",
       " [1617807600000.0, 0.27685476457261843],\n",
       " [1617894000000.0, 0.11204329317773142],\n",
       " [1617980400000.0, 0.1102819492086257],\n",
       " [1618066800000.0, 0.3150560854542435],\n",
       " [1618153200000.0, 0.5519264812994878],\n",
       " [1618239600000.0, 0.4676129667127905],\n",
       " [1618326000000.0, 0.6747647416956578],\n",
       " [1618412400000.0, 0.6552945157514554],\n",
       " [1618498800000.0, 0.7550734895790805],\n",
       " [1618585200000.0, 1.0],\n",
       " [1618671600000.0, 0.9704765201368957],\n",
       " [1618758000000.0, 0.928171533747691],\n",
       " [1618844400000.0, 0.679067172402747],\n",
       " [1618930800000.0, 0.4303045180006634],\n",
       " [1619017200000.0, 0.4142591485098457],\n",
       " [1619103600000.0, 0.23115679743578443],\n",
       " [1619190000000.0, 0.3624965205641574],\n",
       " [1619276400000.0, 0.4324790167279544],\n",
       " [1619362800000.0, 0.49010657838382177],\n",
       " [1619449200000.0, 0.5193191125055742],\n",
       " [1619535600000.0, 0.49613561068999523],\n",
       " [1619622000000.0, 0.3701995168989403],\n",
       " [1619708400000.0, 0.2152753740018033],\n",
       " [1619794800000.0, 0.0]]"
      ]
     },
     "execution_count": 98,
     "metadata": {},
     "output_type": "execute_result"
    }
   ],
   "source": [
    "date_corNews_list(result)"
   ]
  },
  {
   "cell_type": "code",
   "execution_count": 81,
   "metadata": {},
   "outputs": [],
   "source": [
    "def list_datetime_to_unixtime(date_list:list)-> list:\n",
    "    \"\"\"\n",
    "    날짜데이터를 unixtime으로 바꿔주는 함수  \n",
    "    date_list        : list type \n",
    "    \"\"\"\n",
    "    import datetime\n",
    "    # list 타입의 데이터를 데이터 프레임화\n",
    "\n",
    "    # db로부터 조회한 데이터를 데이터프레임에 씌우면 컬럼값이 0, 1, 2 ...\n",
    "    # 보통 첫번째 컬럼이 date컬럼인 경우가 많아 0으로 설정\n",
    "    for index in range(len(date_list)):\n",
    "\n",
    "        # string 타입의 날짜 형식을 datetime 타입으로 변환\n",
    "        datetime_date=datetime.datetime.strptime(str(date_list[index]), '%Y%m%d')\n",
    "\n",
    "        # datetime 타입을 unixtime으로 변환\n",
    "        # *1000 : 분, 초 포함하도록\n",
    "        unix_date=(time.mktime(datetime_date.timetuple()))*1000\n",
    "\n",
    "        # unixtime을 int값으로 변환 후 데이터 프레임에 넣기\n",
    "        date_list[index] = int(float(unix_date))\n",
    "\n",
    "    return date_list"
   ]
  },
  {
   "cell_type": "code",
   "execution_count": 82,
   "metadata": {},
   "outputs": [
    {
     "data": {
      "text/plain": [
       "[1617289200000,\n",
       " 1617375600000,\n",
       " 1617462000000,\n",
       " 1617548400000,\n",
       " 1617634800000,\n",
       " 1617721200000,\n",
       " 1617807600000,\n",
       " 1617894000000,\n",
       " 1617980400000,\n",
       " 1618066800000,\n",
       " 1618153200000,\n",
       " 1618239600000,\n",
       " 1618326000000,\n",
       " 1618412400000,\n",
       " 1618498800000,\n",
       " 1618585200000,\n",
       " 1618671600000,\n",
       " 1618758000000,\n",
       " 1618844400000,\n",
       " 1618930800000,\n",
       " 1619017200000,\n",
       " 1619103600000,\n",
       " 1619190000000,\n",
       " 1619276400000,\n",
       " 1619362800000,\n",
       " 1619449200000,\n",
       " 1619535600000,\n",
       " 1619622000000,\n",
       " 1619708400000,\n",
       " 1619794800000]"
      ]
     },
     "execution_count": 82,
     "metadata": {},
     "output_type": "execute_result"
    }
   ],
   "source": [
    "date_list=result['date'].values.tolist()\n",
    "list_datetime_to_unixtime(date_list)"
   ]
  },
  {
   "cell_type": "code",
   "execution_count": 63,
   "metadata": {},
   "outputs": [
    {
     "name": "stdout",
     "output_type": "stream",
     "text": [
      "1646406000000 <class 'int'>\n"
     ]
    }
   ],
   "source": [
    "import datetime\n",
    "str_date=\"20220305\"\n",
    "datetime_date=datetime.datetime.strptime(str_date, '%Y%m%d')\n",
    "unix_date=time.mktime(datetime_date.timetuple())\n",
    "str_date=float(unix_date*1000)\n",
    "int_date=int(str_date)\n",
    "print(int_date,type(int_date))"
   ]
  },
  {
   "cell_type": "code",
   "execution_count": 14,
   "metadata": {},
   "outputs": [
    {
     "data": {
      "text/plain": [
       "(array([18718., 18722., 18726., 18730., 18734., 18738., 18742., 18746.,\n",
       "        18748.]),\n",
       " [Text(0, 0, ''),\n",
       "  Text(0, 0, ''),\n",
       "  Text(0, 0, ''),\n",
       "  Text(0, 0, ''),\n",
       "  Text(0, 0, ''),\n",
       "  Text(0, 0, ''),\n",
       "  Text(0, 0, ''),\n",
       "  Text(0, 0, ''),\n",
       "  Text(0, 0, '')])"
      ]
     },
     "execution_count": 14,
     "metadata": {},
     "output_type": "execute_result"
    },
    {
     "data": {
      "image/png": "[encoded data removed]",
      "text/plain": [
       "<Figure size 432x288 with 1 Axes>"
      ]
     },
     "metadata": {
      "needs_background": "light"
     },
     "output_type": "display_data"
    }
   ],
   "source": [
    "# 긍부정과 상관관계 그래프 도시\n",
    "import numpy as np\n",
    "import pandas as pd\n",
    "import matplotlib.pyplot as plt\n",
    "import seaborn as sns\n",
    "\n",
    "# ax = sns.scatterplot(data=result, x='senti_moving_avg', y='UpDown_moving_avg')\n",
    "# fig, axe1 = plt.subplots()\n",
    "# axe2 = axe1.twinx()\n",
    "# c1 = sns.lineplot(ax = axe1, data = result, x = 'date', y = 'senti_moving_avg', color = 'red')\n",
    "# c2 = sns.lineplot(ax = axe2, data = result, x = 'date', y = 'UpDown_moving_avg', color = 'blue')\n",
    "\n",
    "plt.plot(result['date'], result['senti_moving_avg'], label = 'senti') \n",
    "plt.plot(result['date'], result['UpDown_moving_avg'], label='stock_UpDown')\n",
    "plt.legend()\n",
    "plt.xticks(rotation=45)"
   ]
  },
  {
   "cell_type": "code",
   "execution_count": 15,
   "metadata": {},
   "outputs": [
    {
     "data": {
      "text/plain": [
       "<AxesSubplot:>"
      ]
     },
     "execution_count": 15,
     "metadata": {},
     "output_type": "execute_result"
    },
    {
     "data": {
      "image/png": "[encoded data removed]",
      "text/plain": [
       "<Figure size 432x288 with 2 Axes>"
      ]
     },
     "metadata": {
      "needs_background": "light"
     },
     "output_type": "display_data"
    }
   ],
   "source": [
    "# 상관계수 찍어보기\n",
    "pairplot = result\n",
    "sns.heatmap(pairplot.corr(), vmin=-1, vmax=1, annot=True, cmap=\"coolwarm\", annot_kws={'size' : 20})"
   ]
  },
  {
   "cell_type": "code",
   "execution_count": null,
   "metadata": {},
   "outputs": [],
   "source": []
  }
 ],
 "metadata": {
  "interpreter": {
   "hash": "b3ba2566441a7c06988d0923437866b63cedc61552a5af99d1f4fb67d367b25f"
  },
  "kernelspec": {
   "display_name": "Python 3.9.7 ('base')",
   "language": "python",
   "name": "python3"
  },
  "language_info": {
   "codemirror_mode": {
    "name": "ipython",
    "version": 3
   },
   "file_extension": ".py",
   "mimetype": "text/x-python",
   "name": "python",
   "nbconvert_exporter": "python",
   "pygments_lexer": "ipython3",
   "version": "3.9.7"
  },
  "orig_nbformat": 4
 },
 "nbformat": 4,
 "nbformat_minor": 2
}
